{
 "cells": [
  {
   "cell_type": "code",
   "execution_count": 91,
   "id": "e22a1799-7d9c-4541-8bfc-54ed55fd7884",
   "metadata": {},
   "outputs": [],
   "source": [
    "import numpy as np\n",
    "import pandas as pd\n",
    "import matplotlib.pyplot as plt"
   ]
  },
  {
   "cell_type": "code",
   "execution_count": 6,
   "id": "7013a36d-b88d-4ae5-b558-3103d93b12e4",
   "metadata": {},
   "outputs": [],
   "source": [
    "temperatures = pd.read_csv('datasets/temperatures.csv')"
   ]
  },
  {
   "cell_type": "code",
   "execution_count": 7,
   "id": "406b5bf7-ec95-44da-a9c1-12df327476b3",
   "metadata": {},
   "outputs": [
    {
     "name": "stdout",
     "output_type": "stream",
     "text": [
      "             date     city        country  avg_temp_c\n",
      "0      2000-01-01  Abidjan  Côte D'Ivoire      27.293\n",
      "1      2000-02-01  Abidjan  Côte D'Ivoire      27.685\n",
      "2      2000-03-01  Abidjan  Côte D'Ivoire      29.061\n",
      "3      2000-04-01  Abidjan  Côte D'Ivoire      28.162\n",
      "4      2000-05-01  Abidjan  Côte D'Ivoire      27.547\n",
      "...           ...      ...            ...         ...\n",
      "16495  2013-05-01     Xian          China      18.979\n",
      "16496  2013-06-01     Xian          China      23.522\n",
      "16497  2013-07-01     Xian          China      25.251\n",
      "16498  2013-08-01     Xian          China      24.528\n",
      "16499  2013-09-01     Xian          China         NaN\n",
      "\n",
      "[16500 rows x 4 columns]\n"
     ]
    }
   ],
   "source": [
    "print(temperatures)"
   ]
  },
  {
   "cell_type": "code",
   "execution_count": 8,
   "id": "1a2fda68-be0d-4cdc-b976-e3d9a3db550b",
   "metadata": {},
   "outputs": [
    {
     "data": {
      "text/html": [
       "<div>\n",
       "<style scoped>\n",
       "    .dataframe tbody tr th:only-of-type {\n",
       "        vertical-align: middle;\n",
       "    }\n",
       "\n",
       "    .dataframe tbody tr th {\n",
       "        vertical-align: top;\n",
       "    }\n",
       "\n",
       "    .dataframe thead th {\n",
       "        text-align: right;\n",
       "    }\n",
       "</style>\n",
       "<table border=\"1\" class=\"dataframe\">\n",
       "  <thead>\n",
       "    <tr style=\"text-align: right;\">\n",
       "      <th></th>\n",
       "      <th>date</th>\n",
       "      <th>country</th>\n",
       "      <th>avg_temp_c</th>\n",
       "    </tr>\n",
       "    <tr>\n",
       "      <th>city</th>\n",
       "      <th></th>\n",
       "      <th></th>\n",
       "      <th></th>\n",
       "    </tr>\n",
       "  </thead>\n",
       "  <tbody>\n",
       "    <tr>\n",
       "      <th>Abidjan</th>\n",
       "      <td>2000-01-01</td>\n",
       "      <td>Côte D'Ivoire</td>\n",
       "      <td>27.293</td>\n",
       "    </tr>\n",
       "    <tr>\n",
       "      <th>Abidjan</th>\n",
       "      <td>2000-02-01</td>\n",
       "      <td>Côte D'Ivoire</td>\n",
       "      <td>27.685</td>\n",
       "    </tr>\n",
       "    <tr>\n",
       "      <th>Abidjan</th>\n",
       "      <td>2000-03-01</td>\n",
       "      <td>Côte D'Ivoire</td>\n",
       "      <td>29.061</td>\n",
       "    </tr>\n",
       "    <tr>\n",
       "      <th>Abidjan</th>\n",
       "      <td>2000-04-01</td>\n",
       "      <td>Côte D'Ivoire</td>\n",
       "      <td>28.162</td>\n",
       "    </tr>\n",
       "    <tr>\n",
       "      <th>Abidjan</th>\n",
       "      <td>2000-05-01</td>\n",
       "      <td>Côte D'Ivoire</td>\n",
       "      <td>27.547</td>\n",
       "    </tr>\n",
       "    <tr>\n",
       "      <th>...</th>\n",
       "      <td>...</td>\n",
       "      <td>...</td>\n",
       "      <td>...</td>\n",
       "    </tr>\n",
       "    <tr>\n",
       "      <th>Xian</th>\n",
       "      <td>2013-05-01</td>\n",
       "      <td>China</td>\n",
       "      <td>18.979</td>\n",
       "    </tr>\n",
       "    <tr>\n",
       "      <th>Xian</th>\n",
       "      <td>2013-06-01</td>\n",
       "      <td>China</td>\n",
       "      <td>23.522</td>\n",
       "    </tr>\n",
       "    <tr>\n",
       "      <th>Xian</th>\n",
       "      <td>2013-07-01</td>\n",
       "      <td>China</td>\n",
       "      <td>25.251</td>\n",
       "    </tr>\n",
       "    <tr>\n",
       "      <th>Xian</th>\n",
       "      <td>2013-08-01</td>\n",
       "      <td>China</td>\n",
       "      <td>24.528</td>\n",
       "    </tr>\n",
       "    <tr>\n",
       "      <th>Xian</th>\n",
       "      <td>2013-09-01</td>\n",
       "      <td>China</td>\n",
       "      <td>NaN</td>\n",
       "    </tr>\n",
       "  </tbody>\n",
       "</table>\n",
       "<p>16500 rows × 3 columns</p>\n",
       "</div>"
      ],
      "text/plain": [
       "               date        country  avg_temp_c\n",
       "city                                          \n",
       "Abidjan  2000-01-01  Côte D'Ivoire      27.293\n",
       "Abidjan  2000-02-01  Côte D'Ivoire      27.685\n",
       "Abidjan  2000-03-01  Côte D'Ivoire      29.061\n",
       "Abidjan  2000-04-01  Côte D'Ivoire      28.162\n",
       "Abidjan  2000-05-01  Côte D'Ivoire      27.547\n",
       "...             ...            ...         ...\n",
       "Xian     2013-05-01          China      18.979\n",
       "Xian     2013-06-01          China      23.522\n",
       "Xian     2013-07-01          China      25.251\n",
       "Xian     2013-08-01          China      24.528\n",
       "Xian     2013-09-01          China         NaN\n",
       "\n",
       "[16500 rows x 3 columns]"
      ]
     },
     "execution_count": 8,
     "metadata": {},
     "output_type": "execute_result"
    }
   ],
   "source": [
    "temperatures_ind = temperatures.set_index(\"city\")\n",
    "temperatures_ind"
   ]
  },
  {
   "cell_type": "code",
   "execution_count": 9,
   "id": "4018714e-c125-48fc-99ad-3e1ce7d61a3c",
   "metadata": {},
   "outputs": [
    {
     "name": "stdout",
     "output_type": "stream",
     "text": [
      "          city        date        country  avg_temp_c\n",
      "0      Abidjan  2000-01-01  Côte D'Ivoire      27.293\n",
      "1      Abidjan  2000-02-01  Côte D'Ivoire      27.685\n",
      "2      Abidjan  2000-03-01  Côte D'Ivoire      29.061\n",
      "3      Abidjan  2000-04-01  Côte D'Ivoire      28.162\n",
      "4      Abidjan  2000-05-01  Côte D'Ivoire      27.547\n",
      "...        ...         ...            ...         ...\n",
      "16495     Xian  2013-05-01          China      18.979\n",
      "16496     Xian  2013-06-01          China      23.522\n",
      "16497     Xian  2013-07-01          China      25.251\n",
      "16498     Xian  2013-08-01          China      24.528\n",
      "16499     Xian  2013-09-01          China         NaN\n",
      "\n",
      "[16500 rows x 4 columns]\n"
     ]
    }
   ],
   "source": [
    "print(temperatures_ind.reset_index())"
   ]
  },
  {
   "cell_type": "code",
   "execution_count": 10,
   "id": "b4ce1156-5b29-4009-b6d0-624092526aca",
   "metadata": {},
   "outputs": [
    {
     "name": "stdout",
     "output_type": "stream",
     "text": [
      "             date        country  avg_temp_c\n",
      "0      2000-01-01  Côte D'Ivoire      27.293\n",
      "1      2000-02-01  Côte D'Ivoire      27.685\n",
      "2      2000-03-01  Côte D'Ivoire      29.061\n",
      "3      2000-04-01  Côte D'Ivoire      28.162\n",
      "4      2000-05-01  Côte D'Ivoire      27.547\n",
      "...           ...            ...         ...\n",
      "16495  2013-05-01          China      18.979\n",
      "16496  2013-06-01          China      23.522\n",
      "16497  2013-07-01          China      25.251\n",
      "16498  2013-08-01          China      24.528\n",
      "16499  2013-09-01          China         NaN\n",
      "\n",
      "[16500 rows x 3 columns]\n"
     ]
    }
   ],
   "source": [
    "print(temperatures_ind.reset_index(drop = True))"
   ]
  },
  {
   "cell_type": "code",
   "execution_count": 11,
   "id": "f59cc28d-fa23-4819-a8ac-52ce3351df64",
   "metadata": {},
   "outputs": [
    {
     "data": {
      "text/plain": [
       "['Moscow', 'Saint Petersburg']"
      ]
     },
     "execution_count": 11,
     "metadata": {},
     "output_type": "execute_result"
    }
   ],
   "source": [
    "cities = [\"Moscow\", \"Saint Petersburg\"]\n",
    "cities"
   ]
  },
  {
   "cell_type": "code",
   "execution_count": 12,
   "id": "e96d0eea-3c2c-43c8-8453-63876006cec6",
   "metadata": {},
   "outputs": [
    {
     "name": "stdout",
     "output_type": "stream",
     "text": [
      "             date              city country  avg_temp_c\n",
      "10725  2000-01-01            Moscow  Russia      -7.313\n",
      "10726  2000-02-01            Moscow  Russia      -3.551\n",
      "10727  2000-03-01            Moscow  Russia      -1.661\n",
      "10728  2000-04-01            Moscow  Russia      10.096\n",
      "10729  2000-05-01            Moscow  Russia      10.357\n",
      "...           ...               ...     ...         ...\n",
      "13360  2013-05-01  Saint Petersburg  Russia      12.355\n",
      "13361  2013-06-01  Saint Petersburg  Russia      17.185\n",
      "13362  2013-07-01  Saint Petersburg  Russia      17.234\n",
      "13363  2013-08-01  Saint Petersburg  Russia      17.153\n",
      "13364  2013-09-01  Saint Petersburg  Russia         NaN\n",
      "\n",
      "[330 rows x 4 columns]\n"
     ]
    }
   ],
   "source": [
    "print(temperatures[temperatures[\"city\"].isin(cities)])"
   ]
  },
  {
   "cell_type": "code",
   "execution_count": 13,
   "id": "413918b2-7dc9-43f2-b159-ddc11ef04236",
   "metadata": {},
   "outputs": [
    {
     "name": "stdout",
     "output_type": "stream",
     "text": [
      "                        date country  avg_temp_c\n",
      "city                                            \n",
      "Moscow            2000-01-01  Russia      -7.313\n",
      "Moscow            2000-02-01  Russia      -3.551\n",
      "Moscow            2000-03-01  Russia      -1.661\n",
      "Moscow            2000-04-01  Russia      10.096\n",
      "Moscow            2000-05-01  Russia      10.357\n",
      "...                      ...     ...         ...\n",
      "Saint Petersburg  2013-05-01  Russia      12.355\n",
      "Saint Petersburg  2013-06-01  Russia      17.185\n",
      "Saint Petersburg  2013-07-01  Russia      17.234\n",
      "Saint Petersburg  2013-08-01  Russia      17.153\n",
      "Saint Petersburg  2013-09-01  Russia         NaN\n",
      "\n",
      "[330 rows x 3 columns]\n"
     ]
    }
   ],
   "source": [
    "print(temperatures_ind.loc[cities])"
   ]
  },
  {
   "cell_type": "code",
   "execution_count": 14,
   "id": "48250e4f-fe5f-43f1-a7a1-13280925db56",
   "metadata": {},
   "outputs": [
    {
     "data": {
      "text/html": [
       "<div>\n",
       "<style scoped>\n",
       "    .dataframe tbody tr th:only-of-type {\n",
       "        vertical-align: middle;\n",
       "    }\n",
       "\n",
       "    .dataframe tbody tr th {\n",
       "        vertical-align: top;\n",
       "    }\n",
       "\n",
       "    .dataframe thead th {\n",
       "        text-align: right;\n",
       "    }\n",
       "</style>\n",
       "<table border=\"1\" class=\"dataframe\">\n",
       "  <thead>\n",
       "    <tr style=\"text-align: right;\">\n",
       "      <th></th>\n",
       "      <th></th>\n",
       "      <th>date</th>\n",
       "      <th>avg_temp_c</th>\n",
       "    </tr>\n",
       "    <tr>\n",
       "      <th>country</th>\n",
       "      <th>city</th>\n",
       "      <th></th>\n",
       "      <th></th>\n",
       "    </tr>\n",
       "  </thead>\n",
       "  <tbody>\n",
       "    <tr>\n",
       "      <th rowspan=\"5\" valign=\"top\">Côte D'Ivoire</th>\n",
       "      <th>Abidjan</th>\n",
       "      <td>2000-01-01</td>\n",
       "      <td>27.293</td>\n",
       "    </tr>\n",
       "    <tr>\n",
       "      <th>Abidjan</th>\n",
       "      <td>2000-02-01</td>\n",
       "      <td>27.685</td>\n",
       "    </tr>\n",
       "    <tr>\n",
       "      <th>Abidjan</th>\n",
       "      <td>2000-03-01</td>\n",
       "      <td>29.061</td>\n",
       "    </tr>\n",
       "    <tr>\n",
       "      <th>Abidjan</th>\n",
       "      <td>2000-04-01</td>\n",
       "      <td>28.162</td>\n",
       "    </tr>\n",
       "    <tr>\n",
       "      <th>Abidjan</th>\n",
       "      <td>2000-05-01</td>\n",
       "      <td>27.547</td>\n",
       "    </tr>\n",
       "    <tr>\n",
       "      <th>...</th>\n",
       "      <th>...</th>\n",
       "      <td>...</td>\n",
       "      <td>...</td>\n",
       "    </tr>\n",
       "    <tr>\n",
       "      <th rowspan=\"5\" valign=\"top\">China</th>\n",
       "      <th>Xian</th>\n",
       "      <td>2013-05-01</td>\n",
       "      <td>18.979</td>\n",
       "    </tr>\n",
       "    <tr>\n",
       "      <th>Xian</th>\n",
       "      <td>2013-06-01</td>\n",
       "      <td>23.522</td>\n",
       "    </tr>\n",
       "    <tr>\n",
       "      <th>Xian</th>\n",
       "      <td>2013-07-01</td>\n",
       "      <td>25.251</td>\n",
       "    </tr>\n",
       "    <tr>\n",
       "      <th>Xian</th>\n",
       "      <td>2013-08-01</td>\n",
       "      <td>24.528</td>\n",
       "    </tr>\n",
       "    <tr>\n",
       "      <th>Xian</th>\n",
       "      <td>2013-09-01</td>\n",
       "      <td>NaN</td>\n",
       "    </tr>\n",
       "  </tbody>\n",
       "</table>\n",
       "<p>16500 rows × 2 columns</p>\n",
       "</div>"
      ],
      "text/plain": [
       "                             date  avg_temp_c\n",
       "country       city                           \n",
       "Côte D'Ivoire Abidjan  2000-01-01      27.293\n",
       "              Abidjan  2000-02-01      27.685\n",
       "              Abidjan  2000-03-01      29.061\n",
       "              Abidjan  2000-04-01      28.162\n",
       "              Abidjan  2000-05-01      27.547\n",
       "...                           ...         ...\n",
       "China         Xian     2013-05-01      18.979\n",
       "              Xian     2013-06-01      23.522\n",
       "              Xian     2013-07-01      25.251\n",
       "              Xian     2013-08-01      24.528\n",
       "              Xian     2013-09-01         NaN\n",
       "\n",
       "[16500 rows x 2 columns]"
      ]
     },
     "execution_count": 14,
     "metadata": {},
     "output_type": "execute_result"
    }
   ],
   "source": [
    "temperatures_ind = temperatures.set_index([\"country\", \"city\"])\n",
    "temperatures_ind"
   ]
  },
  {
   "cell_type": "code",
   "execution_count": 15,
   "id": "43d328aa-ddb3-4ae6-b3f1-3fb18d940061",
   "metadata": {},
   "outputs": [
    {
     "data": {
      "text/plain": [
       "[('Brazil', 'Rio De Janeiro'), ('Pakistan', 'Lahore')]"
      ]
     },
     "execution_count": 15,
     "metadata": {},
     "output_type": "execute_result"
    }
   ],
   "source": [
    "rows_to_keep = [(\"Brazil\", \"Rio De Janeiro\"), (\"Pakistan\", \"Lahore\")]\n",
    "rows_to_keep"
   ]
  },
  {
   "cell_type": "code",
   "execution_count": 16,
   "id": "a95580eb-6978-4db5-be4b-64e75e6c265a",
   "metadata": {},
   "outputs": [
    {
     "name": "stdout",
     "output_type": "stream",
     "text": [
      "                               date  avg_temp_c\n",
      "country  city                                  \n",
      "Brazil   Rio De Janeiro  2000-01-01      25.974\n",
      "         Rio De Janeiro  2000-02-01      26.699\n",
      "         Rio De Janeiro  2000-03-01      26.270\n",
      "         Rio De Janeiro  2000-04-01      25.750\n",
      "         Rio De Janeiro  2000-05-01      24.356\n",
      "...                             ...         ...\n",
      "Pakistan Lahore          2013-05-01      33.457\n",
      "         Lahore          2013-06-01      34.456\n",
      "         Lahore          2013-07-01      33.279\n",
      "         Lahore          2013-08-01      31.511\n",
      "         Lahore          2013-09-01         NaN\n",
      "\n",
      "[330 rows x 2 columns]\n"
     ]
    }
   ],
   "source": [
    "print(temperatures_ind.loc[rows_to_keep])"
   ]
  },
  {
   "cell_type": "code",
   "execution_count": 17,
   "id": "d5a82959-8b59-4782-b50f-c932933f1b4c",
   "metadata": {},
   "outputs": [
    {
     "name": "stdout",
     "output_type": "stream",
     "text": [
      "                          date  avg_temp_c\n",
      "country     city                          \n",
      "Afghanistan Kabul   2000-01-01       3.326\n",
      "            Kabul   2000-02-01       3.454\n",
      "            Kabul   2000-03-01       9.612\n",
      "            Kabul   2000-04-01      17.925\n",
      "            Kabul   2000-05-01      24.658\n",
      "...                        ...         ...\n",
      "Zimbabwe    Harare  2013-05-01      18.298\n",
      "            Harare  2013-06-01      17.020\n",
      "            Harare  2013-07-01      16.299\n",
      "            Harare  2013-08-01      19.232\n",
      "            Harare  2013-09-01         NaN\n",
      "\n",
      "[16500 rows x 2 columns]\n"
     ]
    }
   ],
   "source": [
    "print(temperatures_ind.sort_index())"
   ]
  },
  {
   "cell_type": "code",
   "execution_count": 18,
   "id": "dc71ec79-55f2-4dfd-977d-5d3950e1081f",
   "metadata": {},
   "outputs": [
    {
     "name": "stdout",
     "output_type": "stream",
     "text": [
      "                             date  avg_temp_c\n",
      "country       city                           \n",
      "China         Xian     2013-09-01         NaN\n",
      "              Xian     2013-08-01      24.528\n",
      "              Xian     2013-07-01      25.251\n",
      "              Xian     2013-06-01      23.522\n",
      "              Xian     2013-05-01      18.979\n",
      "...                           ...         ...\n",
      "Côte D'Ivoire Abidjan  2000-05-01      27.547\n",
      "              Abidjan  2000-04-01      28.162\n",
      "              Abidjan  2000-03-01      29.061\n",
      "              Abidjan  2000-02-01      27.685\n",
      "              Abidjan  2000-01-01      27.293\n",
      "\n",
      "[16500 rows x 2 columns]\n"
     ]
    }
   ],
   "source": [
    "print(temperatures_ind.sort_index(level = 'city', ascending = False))"
   ]
  },
  {
   "cell_type": "code",
   "execution_count": 19,
   "id": "35576082-1b12-46b5-9477-13f0272cacc5",
   "metadata": {},
   "outputs": [
    {
     "name": "stdout",
     "output_type": "stream",
     "text": [
      "                          date  avg_temp_c\n",
      "country     city                          \n",
      "Afghanistan Kabul   2000-01-01       3.326\n",
      "            Kabul   2000-02-01       3.454\n",
      "            Kabul   2000-03-01       9.612\n",
      "            Kabul   2000-04-01      17.925\n",
      "            Kabul   2000-05-01      24.658\n",
      "...                        ...         ...\n",
      "Zimbabwe    Harare  2013-05-01      18.298\n",
      "            Harare  2013-06-01      17.020\n",
      "            Harare  2013-07-01      16.299\n",
      "            Harare  2013-08-01      19.232\n",
      "            Harare  2013-09-01         NaN\n",
      "\n",
      "[16500 rows x 2 columns]\n"
     ]
    }
   ],
   "source": [
    "print(temperatures_ind.sort_index(level = ['country', 'city'], ascending = [True, False]))"
   ]
  },
  {
   "cell_type": "code",
   "execution_count": 20,
   "id": "9407c2cf-4c69-4a6c-8bf4-6b3852573510",
   "metadata": {},
   "outputs": [],
   "source": [
    "temperatures_srt = temperatures_ind.sort_index()"
   ]
  },
  {
   "cell_type": "code",
   "execution_count": 21,
   "id": "c963aa6e-b47e-405d-8a16-e51005d71168",
   "metadata": {},
   "outputs": [
    {
     "name": "stdout",
     "output_type": "stream",
     "text": [
      "                                 date  avg_temp_c\n",
      "country  city                                    \n",
      "Pakistan Faisalabad        2000-01-01      12.792\n",
      "         Faisalabad        2000-02-01      14.339\n",
      "         Faisalabad        2000-03-01      20.309\n",
      "         Faisalabad        2000-04-01      29.072\n",
      "         Faisalabad        2000-05-01      34.845\n",
      "...                               ...         ...\n",
      "Russia   Saint Petersburg  2013-05-01      12.355\n",
      "         Saint Petersburg  2013-06-01      17.185\n",
      "         Saint Petersburg  2013-07-01      17.234\n",
      "         Saint Petersburg  2013-08-01      17.153\n",
      "         Saint Petersburg  2013-09-01         NaN\n",
      "\n",
      "[1155 rows x 2 columns]\n"
     ]
    }
   ],
   "source": [
    "print(temperatures_srt.loc[\"Pakistan\" : \"Russia\"])"
   ]
  },
  {
   "cell_type": "code",
   "execution_count": 22,
   "id": "8d57328f-edc8-4cd7-955a-055e79dcf65a",
   "metadata": {},
   "outputs": [
    {
     "name": "stdout",
     "output_type": "stream",
     "text": [
      "                          date  avg_temp_c\n",
      "country city                              \n",
      "Mexico  Mexico      2000-01-01      12.694\n",
      "        Mexico      2000-02-01      14.677\n",
      "        Mexico      2000-03-01      17.376\n",
      "        Mexico      2000-04-01      18.294\n",
      "        Mexico      2000-05-01      18.562\n",
      "...                        ...         ...\n",
      "Morocco Casablanca  2013-05-01      19.217\n",
      "        Casablanca  2013-06-01      23.649\n",
      "        Casablanca  2013-07-01      27.488\n",
      "        Casablanca  2013-08-01      27.952\n",
      "        Casablanca  2013-09-01         NaN\n",
      "\n",
      "[330 rows x 2 columns]\n"
     ]
    }
   ],
   "source": [
    "print(temperatures_srt.loc[\"Lahore\" : \"Moscow\"])"
   ]
  },
  {
   "cell_type": "code",
   "execution_count": 23,
   "id": "39c024a2-b8e0-4c3a-a6bd-a54bc8c67049",
   "metadata": {},
   "outputs": [
    {
     "name": "stdout",
     "output_type": "stream",
     "text": [
      "                       date  avg_temp_c\n",
      "country  city                          \n",
      "Pakistan Lahore  2000-01-01      12.792\n",
      "         Lahore  2000-02-01      14.339\n",
      "         Lahore  2000-03-01      20.309\n",
      "         Lahore  2000-04-01      29.072\n",
      "         Lahore  2000-05-01      34.845\n",
      "...                     ...         ...\n",
      "Russia   Moscow  2013-05-01      16.152\n",
      "         Moscow  2013-06-01      18.718\n",
      "         Moscow  2013-07-01      18.136\n",
      "         Moscow  2013-08-01      17.485\n",
      "         Moscow  2013-09-01         NaN\n",
      "\n",
      "[660 rows x 2 columns]\n"
     ]
    }
   ],
   "source": [
    "print(temperatures_srt.loc[(\"Pakistan\", \"Lahore\") : (\"Russia\", \"Moscow\")])"
   ]
  },
  {
   "cell_type": "code",
   "execution_count": 24,
   "id": "a03bf3eb-e13e-4435-81df-cb4d679554bb",
   "metadata": {},
   "outputs": [
    {
     "name": "stdout",
     "output_type": "stream",
     "text": [
      "                       date  avg_temp_c\n",
      "country city                           \n",
      "India   Jaipur   2000-01-01      16.837\n",
      "        Jaipur   2000-02-01      17.592\n",
      "        Jaipur   2000-03-01      23.932\n",
      "        Jaipur   2000-04-01      32.219\n",
      "        Jaipur   2000-05-01      34.423\n",
      "...                     ...         ...\n",
      "Iraq    Baghdad  2013-05-01      28.673\n",
      "        Baghdad  2013-06-01      33.803\n",
      "        Baghdad  2013-07-01      36.392\n",
      "        Baghdad  2013-08-01      35.463\n",
      "        Baghdad  2013-09-01         NaN\n",
      "\n",
      "[1980 rows x 2 columns]\n"
     ]
    }
   ],
   "source": [
    "print(temperatures_srt.loc[(\"India\", \"Hyderabad \") : (\"Iraq\", \"Baghdad\")])"
   ]
  },
  {
   "cell_type": "code",
   "execution_count": 25,
   "id": "7bd50774-e6ed-4731-bf67-09738d01132d",
   "metadata": {},
   "outputs": [
    {
     "name": "stdout",
     "output_type": "stream",
     "text": [
      "country      city  \n",
      "Afghanistan  Kabul      3.326\n",
      "             Kabul      3.454\n",
      "             Kabul      9.612\n",
      "             Kabul     17.925\n",
      "             Kabul     24.658\n",
      "                        ...  \n",
      "Zimbabwe     Harare    18.298\n",
      "             Harare    17.020\n",
      "             Harare    16.299\n",
      "             Harare    19.232\n",
      "             Harare       NaN\n",
      "Name: avg_temp_c, Length: 16500, dtype: float64\n"
     ]
    }
   ],
   "source": [
    "print(temperatures_srt.loc[ : , \"avg_temp_c\" ])"
   ]
  },
  {
   "cell_type": "code",
   "execution_count": 26,
   "id": "c587a4c0-bb7f-4250-834f-0789e4e4ff29",
   "metadata": {},
   "outputs": [
    {
     "name": "stdout",
     "output_type": "stream",
     "text": [
      "                         date  avg_temp_c\n",
      "country city                             \n",
      "India   Hyderabad  2000-01-01      23.779\n",
      "        Hyderabad  2000-02-01      25.826\n",
      "        Hyderabad  2000-03-01      28.821\n",
      "        Hyderabad  2000-04-01      32.698\n",
      "        Hyderabad  2000-05-01      32.438\n",
      "...                       ...         ...\n",
      "Iraq    Baghdad    2013-05-01      28.673\n",
      "        Baghdad    2013-06-01      33.803\n",
      "        Baghdad    2013-07-01      36.392\n",
      "        Baghdad    2013-08-01      35.463\n",
      "        Baghdad    2013-09-01         NaN\n",
      "\n",
      "[2145 rows x 2 columns]\n"
     ]
    }
   ],
   "source": [
    "print(temperatures_srt.loc[(\"India\", \"Hyderabad\") : (\"Iraq\", \"Baghdad\"), \"date\" : \"avg_temp_c\"])"
   ]
  },
  {
   "cell_type": "code",
   "execution_count": 27,
   "id": "f7b97810-7123-440c-95c2-076b661fe273",
   "metadata": {},
   "outputs": [
    {
     "name": "stdout",
     "output_type": "stream",
     "text": [
      "             date     city        country  avg_temp_c\n",
      "120    2010-01-01  Abidjan  Côte D'Ivoire      28.270\n",
      "121    2010-02-01  Abidjan  Côte D'Ivoire      29.262\n",
      "122    2010-03-01  Abidjan  Côte D'Ivoire      29.596\n",
      "123    2010-04-01  Abidjan  Côte D'Ivoire      29.068\n",
      "124    2010-05-01  Abidjan  Côte D'Ivoire      28.258\n",
      "...           ...      ...            ...         ...\n",
      "16474  2011-08-01     Xian          China      23.069\n",
      "16475  2011-09-01     Xian          China      16.775\n",
      "16476  2011-10-01     Xian          China      12.587\n",
      "16477  2011-11-01     Xian          China       7.543\n",
      "16478  2011-12-01     Xian          China      -0.490\n",
      "\n",
      "[2400 rows x 4 columns]\n"
     ]
    }
   ],
   "source": [
    "temperatures_bool = temperatures[(temperatures[\"date\"] >= \"2010-01-01\" ) & (temperatures[\"date\"] <= \"2011-12-31\")]\n",
    "print(temperatures_bool)"
   ]
  },
  {
   "cell_type": "code",
   "execution_count": 28,
   "id": "db8e7f94-b7ef-4207-956c-f12c2a90b84f",
   "metadata": {},
   "outputs": [
    {
     "data": {
      "text/html": [
       "<div>\n",
       "<style scoped>\n",
       "    .dataframe tbody tr th:only-of-type {\n",
       "        vertical-align: middle;\n",
       "    }\n",
       "\n",
       "    .dataframe tbody tr th {\n",
       "        vertical-align: top;\n",
       "    }\n",
       "\n",
       "    .dataframe thead th {\n",
       "        text-align: right;\n",
       "    }\n",
       "</style>\n",
       "<table border=\"1\" class=\"dataframe\">\n",
       "  <thead>\n",
       "    <tr style=\"text-align: right;\">\n",
       "      <th></th>\n",
       "      <th>city</th>\n",
       "      <th>country</th>\n",
       "      <th>avg_temp_c</th>\n",
       "    </tr>\n",
       "    <tr>\n",
       "      <th>date</th>\n",
       "      <th></th>\n",
       "      <th></th>\n",
       "      <th></th>\n",
       "    </tr>\n",
       "  </thead>\n",
       "  <tbody>\n",
       "    <tr>\n",
       "      <th>2000-01-01</th>\n",
       "      <td>Abidjan</td>\n",
       "      <td>Côte D'Ivoire</td>\n",
       "      <td>27.293</td>\n",
       "    </tr>\n",
       "    <tr>\n",
       "      <th>2000-01-01</th>\n",
       "      <td>Lahore</td>\n",
       "      <td>Pakistan</td>\n",
       "      <td>12.792</td>\n",
       "    </tr>\n",
       "    <tr>\n",
       "      <th>2000-01-01</th>\n",
       "      <td>Tangshan</td>\n",
       "      <td>China</td>\n",
       "      <td>-5.406</td>\n",
       "    </tr>\n",
       "    <tr>\n",
       "      <th>2000-01-01</th>\n",
       "      <td>Gizeh</td>\n",
       "      <td>Egypt</td>\n",
       "      <td>12.669</td>\n",
       "    </tr>\n",
       "    <tr>\n",
       "      <th>2000-01-01</th>\n",
       "      <td>Lakhnau</td>\n",
       "      <td>India</td>\n",
       "      <td>15.152</td>\n",
       "    </tr>\n",
       "    <tr>\n",
       "      <th>...</th>\n",
       "      <td>...</td>\n",
       "      <td>...</td>\n",
       "      <td>...</td>\n",
       "    </tr>\n",
       "    <tr>\n",
       "      <th>2013-09-01</th>\n",
       "      <td>Nanjing</td>\n",
       "      <td>China</td>\n",
       "      <td>NaN</td>\n",
       "    </tr>\n",
       "    <tr>\n",
       "      <th>2013-09-01</th>\n",
       "      <td>New Delhi</td>\n",
       "      <td>India</td>\n",
       "      <td>NaN</td>\n",
       "    </tr>\n",
       "    <tr>\n",
       "      <th>2013-09-01</th>\n",
       "      <td>New York</td>\n",
       "      <td>United States</td>\n",
       "      <td>17.408</td>\n",
       "    </tr>\n",
       "    <tr>\n",
       "      <th>2013-09-01</th>\n",
       "      <td>Peking</td>\n",
       "      <td>China</td>\n",
       "      <td>NaN</td>\n",
       "    </tr>\n",
       "    <tr>\n",
       "      <th>2013-09-01</th>\n",
       "      <td>Xian</td>\n",
       "      <td>China</td>\n",
       "      <td>NaN</td>\n",
       "    </tr>\n",
       "  </tbody>\n",
       "</table>\n",
       "<p>16500 rows × 3 columns</p>\n",
       "</div>"
      ],
      "text/plain": [
       "                 city        country  avg_temp_c\n",
       "date                                            \n",
       "2000-01-01    Abidjan  Côte D'Ivoire      27.293\n",
       "2000-01-01     Lahore       Pakistan      12.792\n",
       "2000-01-01   Tangshan          China      -5.406\n",
       "2000-01-01      Gizeh          Egypt      12.669\n",
       "2000-01-01    Lakhnau          India      15.152\n",
       "...               ...            ...         ...\n",
       "2013-09-01    Nanjing          China         NaN\n",
       "2013-09-01  New Delhi          India         NaN\n",
       "2013-09-01   New York  United States      17.408\n",
       "2013-09-01     Peking          China         NaN\n",
       "2013-09-01       Xian          China         NaN\n",
       "\n",
       "[16500 rows x 3 columns]"
      ]
     },
     "execution_count": 28,
     "metadata": {},
     "output_type": "execute_result"
    }
   ],
   "source": [
    "temperatures_ind = temperatures.set_index(\"date\").sort_index()\n",
    "temperatures_ind"
   ]
  },
  {
   "cell_type": "code",
   "execution_count": 29,
   "id": "6dd252d5-0cc8-4199-b881-5f5c72d8277c",
   "metadata": {},
   "outputs": [
    {
     "name": "stdout",
     "output_type": "stream",
     "text": [
      "                city        country  avg_temp_c\n",
      "date                                           \n",
      "2010-08-01  Calcutta          India      30.226\n",
      "2010-08-01      Pune          India      24.941\n",
      "2010-08-01     Izmir         Turkey      28.352\n",
      "2010-08-01   Tianjin          China      25.543\n",
      "2010-08-01    Manila    Philippines      27.101\n",
      "...              ...            ...         ...\n",
      "2011-02-01     Kabul    Afghanistan       3.914\n",
      "2011-02-01   Chicago  United States       0.276\n",
      "2011-02-01    Aleppo          Syria       8.246\n",
      "2011-02-01     Delhi          India      18.136\n",
      "2011-02-01   Rangoon          Burma      26.631\n",
      "\n",
      "[700 rows x 3 columns]\n"
     ]
    }
   ],
   "source": [
    "print(temperatures_ind.loc[\"2010-08-01\" : \"2011-02-29\"])"
   ]
  },
  {
   "cell_type": "code",
   "execution_count": 30,
   "id": "4352b3ab-f6cb-495f-bef1-9137176d0875",
   "metadata": {},
   "outputs": [
    {
     "name": "stdout",
     "output_type": "stream",
     "text": [
      "Abidjan\n"
     ]
    }
   ],
   "source": [
    "print(temperatures.iloc[(22, 1)])"
   ]
  },
  {
   "cell_type": "code",
   "execution_count": 31,
   "id": "ac5b8566-0ba0-4c80-bcbc-7c80315be35b",
   "metadata": {},
   "outputs": [
    {
     "name": "stdout",
     "output_type": "stream",
     "text": [
      "         date     city        country  avg_temp_c\n",
      "0  2000-01-01  Abidjan  Côte D'Ivoire      27.293\n",
      "1  2000-02-01  Abidjan  Côte D'Ivoire      27.685\n",
      "2  2000-03-01  Abidjan  Côte D'Ivoire      29.061\n",
      "3  2000-04-01  Abidjan  Côte D'Ivoire      28.162\n"
     ]
    }
   ],
   "source": [
    "print(temperatures.iloc[:4])"
   ]
  },
  {
   "cell_type": "code",
   "execution_count": 32,
   "id": "dbf4d70d-afd8-4fe4-9ad4-33b4110f3657",
   "metadata": {},
   "outputs": [
    {
     "name": "stdout",
     "output_type": "stream",
     "text": [
      "             country  avg_temp_c\n",
      "0      Côte D'Ivoire      27.293\n",
      "1      Côte D'Ivoire      27.685\n",
      "2      Côte D'Ivoire      29.061\n",
      "3      Côte D'Ivoire      28.162\n",
      "4      Côte D'Ivoire      27.547\n",
      "...              ...         ...\n",
      "16495          China      18.979\n",
      "16496          China      23.522\n",
      "16497          China      25.251\n",
      "16498          China      24.528\n",
      "16499          China         NaN\n",
      "\n",
      "[16500 rows x 2 columns]\n"
     ]
    }
   ],
   "source": [
    "print(temperatures.iloc[:, 2:4])"
   ]
  },
  {
   "cell_type": "code",
   "execution_count": 33,
   "id": "de9a57e2-9db2-41cb-8c06-94c60edf600b",
   "metadata": {},
   "outputs": [
    {
     "name": "stdout",
     "output_type": "stream",
     "text": [
      "         country  avg_temp_c\n",
      "0  Côte D'Ivoire      27.293\n",
      "1  Côte D'Ivoire      27.685\n",
      "2  Côte D'Ivoire      29.061\n",
      "3  Côte D'Ivoire      28.162\n",
      "4  Côte D'Ivoire      27.547\n"
     ]
    }
   ],
   "source": [
    "print(temperatures.iloc[:5, 2:4])"
   ]
  },
  {
   "cell_type": "code",
   "execution_count": 54,
   "id": "f12d20fb-4d40-458f-892a-294e853bc9f9",
   "metadata": {},
   "outputs": [],
   "source": [
    "temperatures['date'] = pd.to_datetime(temperatures.date)"
   ]
  },
  {
   "cell_type": "code",
   "execution_count": 56,
   "id": "6bd00225-3f3d-47ae-9ea6-87fedb164f0f",
   "metadata": {},
   "outputs": [],
   "source": [
    "temperatures['year'] = temperatures['date'].dt.year"
   ]
  },
  {
   "cell_type": "code",
   "execution_count": 57,
   "id": "959905eb-819a-4403-a8af-28718f371c56",
   "metadata": {},
   "outputs": [
    {
     "data": {
      "text/html": [
       "<div>\n",
       "<style scoped>\n",
       "    .dataframe tbody tr th:only-of-type {\n",
       "        vertical-align: middle;\n",
       "    }\n",
       "\n",
       "    .dataframe tbody tr th {\n",
       "        vertical-align: top;\n",
       "    }\n",
       "\n",
       "    .dataframe thead th {\n",
       "        text-align: right;\n",
       "    }\n",
       "</style>\n",
       "<table border=\"1\" class=\"dataframe\">\n",
       "  <thead>\n",
       "    <tr style=\"text-align: right;\">\n",
       "      <th></th>\n",
       "      <th>year</th>\n",
       "      <th>2000</th>\n",
       "      <th>2001</th>\n",
       "      <th>2002</th>\n",
       "      <th>2003</th>\n",
       "      <th>2004</th>\n",
       "      <th>2005</th>\n",
       "      <th>2006</th>\n",
       "      <th>2007</th>\n",
       "      <th>2008</th>\n",
       "      <th>2009</th>\n",
       "      <th>2010</th>\n",
       "      <th>2011</th>\n",
       "      <th>2012</th>\n",
       "      <th>2013</th>\n",
       "    </tr>\n",
       "    <tr>\n",
       "      <th>country</th>\n",
       "      <th>city</th>\n",
       "      <th></th>\n",
       "      <th></th>\n",
       "      <th></th>\n",
       "      <th></th>\n",
       "      <th></th>\n",
       "      <th></th>\n",
       "      <th></th>\n",
       "      <th></th>\n",
       "      <th></th>\n",
       "      <th></th>\n",
       "      <th></th>\n",
       "      <th></th>\n",
       "      <th></th>\n",
       "      <th></th>\n",
       "    </tr>\n",
       "  </thead>\n",
       "  <tbody>\n",
       "    <tr>\n",
       "      <th>Afghanistan</th>\n",
       "      <th>Kabul</th>\n",
       "      <td>15.822667</td>\n",
       "      <td>15.847917</td>\n",
       "      <td>15.714583</td>\n",
       "      <td>15.132583</td>\n",
       "      <td>16.128417</td>\n",
       "      <td>14.847500</td>\n",
       "      <td>15.798500</td>\n",
       "      <td>15.518000</td>\n",
       "      <td>15.479250</td>\n",
       "      <td>15.093333</td>\n",
       "      <td>15.676000</td>\n",
       "      <td>15.812167</td>\n",
       "      <td>14.510333</td>\n",
       "      <td>16.206125</td>\n",
       "    </tr>\n",
       "    <tr>\n",
       "      <th>Angola</th>\n",
       "      <th>Luanda</th>\n",
       "      <td>24.410333</td>\n",
       "      <td>24.427083</td>\n",
       "      <td>24.790917</td>\n",
       "      <td>24.867167</td>\n",
       "      <td>24.216167</td>\n",
       "      <td>24.414583</td>\n",
       "      <td>24.138417</td>\n",
       "      <td>24.241583</td>\n",
       "      <td>24.266333</td>\n",
       "      <td>24.325083</td>\n",
       "      <td>24.440250</td>\n",
       "      <td>24.150750</td>\n",
       "      <td>24.240083</td>\n",
       "      <td>24.553875</td>\n",
       "    </tr>\n",
       "    <tr>\n",
       "      <th rowspan=\"2\" valign=\"top\">Australia</th>\n",
       "      <th>Melbourne</th>\n",
       "      <td>14.320083</td>\n",
       "      <td>14.180000</td>\n",
       "      <td>14.075833</td>\n",
       "      <td>13.985583</td>\n",
       "      <td>13.742083</td>\n",
       "      <td>14.378500</td>\n",
       "      <td>13.991083</td>\n",
       "      <td>14.991833</td>\n",
       "      <td>14.110583</td>\n",
       "      <td>14.647417</td>\n",
       "      <td>14.231667</td>\n",
       "      <td>14.190917</td>\n",
       "      <td>14.268667</td>\n",
       "      <td>14.741500</td>\n",
       "    </tr>\n",
       "    <tr>\n",
       "      <th>Sydney</th>\n",
       "      <td>17.567417</td>\n",
       "      <td>17.854500</td>\n",
       "      <td>17.733833</td>\n",
       "      <td>17.592333</td>\n",
       "      <td>17.869667</td>\n",
       "      <td>18.028083</td>\n",
       "      <td>17.749500</td>\n",
       "      <td>18.020833</td>\n",
       "      <td>17.321083</td>\n",
       "      <td>18.175833</td>\n",
       "      <td>17.999000</td>\n",
       "      <td>17.713333</td>\n",
       "      <td>17.474333</td>\n",
       "      <td>18.089750</td>\n",
       "    </tr>\n",
       "    <tr>\n",
       "      <th>Bangladesh</th>\n",
       "      <th>Dhaka</th>\n",
       "      <td>25.905250</td>\n",
       "      <td>25.931250</td>\n",
       "      <td>26.095000</td>\n",
       "      <td>25.927417</td>\n",
       "      <td>26.136083</td>\n",
       "      <td>26.193333</td>\n",
       "      <td>26.440417</td>\n",
       "      <td>25.951333</td>\n",
       "      <td>26.004500</td>\n",
       "      <td>26.535583</td>\n",
       "      <td>26.648167</td>\n",
       "      <td>25.803250</td>\n",
       "      <td>26.283583</td>\n",
       "      <td>26.587000</td>\n",
       "    </tr>\n",
       "    <tr>\n",
       "      <th>...</th>\n",
       "      <th>...</th>\n",
       "      <td>...</td>\n",
       "      <td>...</td>\n",
       "      <td>...</td>\n",
       "      <td>...</td>\n",
       "      <td>...</td>\n",
       "      <td>...</td>\n",
       "      <td>...</td>\n",
       "      <td>...</td>\n",
       "      <td>...</td>\n",
       "      <td>...</td>\n",
       "      <td>...</td>\n",
       "      <td>...</td>\n",
       "      <td>...</td>\n",
       "      <td>...</td>\n",
       "    </tr>\n",
       "    <tr>\n",
       "      <th rowspan=\"3\" valign=\"top\">United States</th>\n",
       "      <th>Chicago</th>\n",
       "      <td>11.089667</td>\n",
       "      <td>11.703083</td>\n",
       "      <td>11.532083</td>\n",
       "      <td>10.481583</td>\n",
       "      <td>10.943417</td>\n",
       "      <td>11.583833</td>\n",
       "      <td>11.870500</td>\n",
       "      <td>11.448333</td>\n",
       "      <td>10.242417</td>\n",
       "      <td>10.298333</td>\n",
       "      <td>11.815917</td>\n",
       "      <td>11.214250</td>\n",
       "      <td>12.821250</td>\n",
       "      <td>11.586889</td>\n",
       "    </tr>\n",
       "    <tr>\n",
       "      <th>Los Angeles</th>\n",
       "      <td>16.643333</td>\n",
       "      <td>16.466250</td>\n",
       "      <td>16.430250</td>\n",
       "      <td>16.944667</td>\n",
       "      <td>16.552833</td>\n",
       "      <td>16.431417</td>\n",
       "      <td>16.623083</td>\n",
       "      <td>16.699917</td>\n",
       "      <td>17.014750</td>\n",
       "      <td>16.677000</td>\n",
       "      <td>15.887000</td>\n",
       "      <td>15.874833</td>\n",
       "      <td>17.089583</td>\n",
       "      <td>18.120667</td>\n",
       "    </tr>\n",
       "    <tr>\n",
       "      <th>New York</th>\n",
       "      <td>9.969083</td>\n",
       "      <td>10.931000</td>\n",
       "      <td>11.252167</td>\n",
       "      <td>9.836000</td>\n",
       "      <td>10.389500</td>\n",
       "      <td>10.681417</td>\n",
       "      <td>11.519250</td>\n",
       "      <td>10.627333</td>\n",
       "      <td>10.641667</td>\n",
       "      <td>10.141833</td>\n",
       "      <td>11.357583</td>\n",
       "      <td>11.272250</td>\n",
       "      <td>11.971500</td>\n",
       "      <td>12.163889</td>\n",
       "    </tr>\n",
       "    <tr>\n",
       "      <th>Vietnam</th>\n",
       "      <th>Ho Chi Minh City</th>\n",
       "      <td>27.588917</td>\n",
       "      <td>27.831750</td>\n",
       "      <td>28.064750</td>\n",
       "      <td>27.827667</td>\n",
       "      <td>27.686583</td>\n",
       "      <td>27.884000</td>\n",
       "      <td>28.044000</td>\n",
       "      <td>27.866667</td>\n",
       "      <td>27.611417</td>\n",
       "      <td>27.853333</td>\n",
       "      <td>28.281750</td>\n",
       "      <td>27.675417</td>\n",
       "      <td>28.248750</td>\n",
       "      <td>28.455000</td>\n",
       "    </tr>\n",
       "    <tr>\n",
       "      <th>Zimbabwe</th>\n",
       "      <th>Harare</th>\n",
       "      <td>20.283667</td>\n",
       "      <td>20.861000</td>\n",
       "      <td>21.079333</td>\n",
       "      <td>20.889167</td>\n",
       "      <td>20.307667</td>\n",
       "      <td>21.487417</td>\n",
       "      <td>20.699750</td>\n",
       "      <td>20.746250</td>\n",
       "      <td>20.680500</td>\n",
       "      <td>20.523833</td>\n",
       "      <td>21.165833</td>\n",
       "      <td>20.781750</td>\n",
       "      <td>20.523333</td>\n",
       "      <td>19.756500</td>\n",
       "    </tr>\n",
       "  </tbody>\n",
       "</table>\n",
       "<p>100 rows × 14 columns</p>\n",
       "</div>"
      ],
      "text/plain": [
       "year                                 2000       2001       2002       2003  \\\n",
       "country       city                                                           \n",
       "Afghanistan   Kabul             15.822667  15.847917  15.714583  15.132583   \n",
       "Angola        Luanda            24.410333  24.427083  24.790917  24.867167   \n",
       "Australia     Melbourne         14.320083  14.180000  14.075833  13.985583   \n",
       "              Sydney            17.567417  17.854500  17.733833  17.592333   \n",
       "Bangladesh    Dhaka             25.905250  25.931250  26.095000  25.927417   \n",
       "...                                   ...        ...        ...        ...   \n",
       "United States Chicago           11.089667  11.703083  11.532083  10.481583   \n",
       "              Los Angeles       16.643333  16.466250  16.430250  16.944667   \n",
       "              New York           9.969083  10.931000  11.252167   9.836000   \n",
       "Vietnam       Ho Chi Minh City  27.588917  27.831750  28.064750  27.827667   \n",
       "Zimbabwe      Harare            20.283667  20.861000  21.079333  20.889167   \n",
       "\n",
       "year                                 2004       2005       2006       2007  \\\n",
       "country       city                                                           \n",
       "Afghanistan   Kabul             16.128417  14.847500  15.798500  15.518000   \n",
       "Angola        Luanda            24.216167  24.414583  24.138417  24.241583   \n",
       "Australia     Melbourne         13.742083  14.378500  13.991083  14.991833   \n",
       "              Sydney            17.869667  18.028083  17.749500  18.020833   \n",
       "Bangladesh    Dhaka             26.136083  26.193333  26.440417  25.951333   \n",
       "...                                   ...        ...        ...        ...   \n",
       "United States Chicago           10.943417  11.583833  11.870500  11.448333   \n",
       "              Los Angeles       16.552833  16.431417  16.623083  16.699917   \n",
       "              New York          10.389500  10.681417  11.519250  10.627333   \n",
       "Vietnam       Ho Chi Minh City  27.686583  27.884000  28.044000  27.866667   \n",
       "Zimbabwe      Harare            20.307667  21.487417  20.699750  20.746250   \n",
       "\n",
       "year                                 2008       2009       2010       2011  \\\n",
       "country       city                                                           \n",
       "Afghanistan   Kabul             15.479250  15.093333  15.676000  15.812167   \n",
       "Angola        Luanda            24.266333  24.325083  24.440250  24.150750   \n",
       "Australia     Melbourne         14.110583  14.647417  14.231667  14.190917   \n",
       "              Sydney            17.321083  18.175833  17.999000  17.713333   \n",
       "Bangladesh    Dhaka             26.004500  26.535583  26.648167  25.803250   \n",
       "...                                   ...        ...        ...        ...   \n",
       "United States Chicago           10.242417  10.298333  11.815917  11.214250   \n",
       "              Los Angeles       17.014750  16.677000  15.887000  15.874833   \n",
       "              New York          10.641667  10.141833  11.357583  11.272250   \n",
       "Vietnam       Ho Chi Minh City  27.611417  27.853333  28.281750  27.675417   \n",
       "Zimbabwe      Harare            20.680500  20.523833  21.165833  20.781750   \n",
       "\n",
       "year                                 2012       2013  \n",
       "country       city                                    \n",
       "Afghanistan   Kabul             14.510333  16.206125  \n",
       "Angola        Luanda            24.240083  24.553875  \n",
       "Australia     Melbourne         14.268667  14.741500  \n",
       "              Sydney            17.474333  18.089750  \n",
       "Bangladesh    Dhaka             26.283583  26.587000  \n",
       "...                                   ...        ...  \n",
       "United States Chicago           12.821250  11.586889  \n",
       "              Los Angeles       17.089583  18.120667  \n",
       "              New York          11.971500  12.163889  \n",
       "Vietnam       Ho Chi Minh City  28.248750  28.455000  \n",
       "Zimbabwe      Harare            20.523333  19.756500  \n",
       "\n",
       "[100 rows x 14 columns]"
      ]
     },
     "execution_count": 57,
     "metadata": {},
     "output_type": "execute_result"
    }
   ],
   "source": [
    "temp_by_country_city_vs_year = temperatures.pivot_table(\"avg_temp_c\", index = [\"country\", \"city\"], columns=\"year\")\n",
    "temp_by_country_city_vs_year"
   ]
  },
  {
   "cell_type": "code",
   "execution_count": 65,
   "id": "9f769290-72cf-46ba-91db-15ca4f14a88b",
   "metadata": {},
   "outputs": [
    {
     "data": {
      "text/html": [
       "<div>\n",
       "<style scoped>\n",
       "    .dataframe tbody tr th:only-of-type {\n",
       "        vertical-align: middle;\n",
       "    }\n",
       "\n",
       "    .dataframe tbody tr th {\n",
       "        vertical-align: top;\n",
       "    }\n",
       "\n",
       "    .dataframe thead th {\n",
       "        text-align: right;\n",
       "    }\n",
       "</style>\n",
       "<table border=\"1\" class=\"dataframe\">\n",
       "  <thead>\n",
       "    <tr style=\"text-align: right;\">\n",
       "      <th></th>\n",
       "      <th>year</th>\n",
       "      <th>2005</th>\n",
       "      <th>2006</th>\n",
       "      <th>2007</th>\n",
       "      <th>2008</th>\n",
       "      <th>2009</th>\n",
       "      <th>2010</th>\n",
       "    </tr>\n",
       "    <tr>\n",
       "      <th>country</th>\n",
       "      <th>city</th>\n",
       "      <th></th>\n",
       "      <th></th>\n",
       "      <th></th>\n",
       "      <th></th>\n",
       "      <th></th>\n",
       "      <th></th>\n",
       "    </tr>\n",
       "  </thead>\n",
       "  <tbody>\n",
       "    <tr>\n",
       "      <th rowspan=\"2\" valign=\"top\">Egypt</th>\n",
       "      <th>Cairo</th>\n",
       "      <td>22.006500</td>\n",
       "      <td>22.050000</td>\n",
       "      <td>22.361000</td>\n",
       "      <td>22.644500</td>\n",
       "      <td>22.625000</td>\n",
       "      <td>23.718250</td>\n",
       "    </tr>\n",
       "    <tr>\n",
       "      <th>Gizeh</th>\n",
       "      <td>22.006500</td>\n",
       "      <td>22.050000</td>\n",
       "      <td>22.361000</td>\n",
       "      <td>22.644500</td>\n",
       "      <td>22.625000</td>\n",
       "      <td>23.718250</td>\n",
       "    </tr>\n",
       "    <tr>\n",
       "      <th>Ethiopia</th>\n",
       "      <th>Addis Abeba</th>\n",
       "      <td>18.312833</td>\n",
       "      <td>18.427083</td>\n",
       "      <td>18.142583</td>\n",
       "      <td>18.165000</td>\n",
       "      <td>18.765333</td>\n",
       "      <td>18.298250</td>\n",
       "    </tr>\n",
       "    <tr>\n",
       "      <th>France</th>\n",
       "      <th>Paris</th>\n",
       "      <td>11.552917</td>\n",
       "      <td>11.788500</td>\n",
       "      <td>11.750833</td>\n",
       "      <td>11.278250</td>\n",
       "      <td>11.464083</td>\n",
       "      <td>10.409833</td>\n",
       "    </tr>\n",
       "    <tr>\n",
       "      <th>Germany</th>\n",
       "      <th>Berlin</th>\n",
       "      <td>9.919083</td>\n",
       "      <td>10.545333</td>\n",
       "      <td>10.883167</td>\n",
       "      <td>10.657750</td>\n",
       "      <td>10.062500</td>\n",
       "      <td>8.606833</td>\n",
       "    </tr>\n",
       "    <tr>\n",
       "      <th rowspan=\"5\" valign=\"top\">India</th>\n",
       "      <th>Ahmadabad</th>\n",
       "      <td>26.828083</td>\n",
       "      <td>27.282833</td>\n",
       "      <td>27.511167</td>\n",
       "      <td>27.048500</td>\n",
       "      <td>28.095833</td>\n",
       "      <td>28.017833</td>\n",
       "    </tr>\n",
       "    <tr>\n",
       "      <th>Bangalore</th>\n",
       "      <td>25.476500</td>\n",
       "      <td>25.418250</td>\n",
       "      <td>25.464333</td>\n",
       "      <td>25.352583</td>\n",
       "      <td>25.725750</td>\n",
       "      <td>25.705250</td>\n",
       "    </tr>\n",
       "    <tr>\n",
       "      <th>Bombay</th>\n",
       "      <td>27.035750</td>\n",
       "      <td>27.381500</td>\n",
       "      <td>27.634667</td>\n",
       "      <td>27.177750</td>\n",
       "      <td>27.844500</td>\n",
       "      <td>27.765417</td>\n",
       "    </tr>\n",
       "    <tr>\n",
       "      <th>Calcutta</th>\n",
       "      <td>26.729167</td>\n",
       "      <td>26.986250</td>\n",
       "      <td>26.584583</td>\n",
       "      <td>26.522333</td>\n",
       "      <td>27.153250</td>\n",
       "      <td>27.288833</td>\n",
       "    </tr>\n",
       "    <tr>\n",
       "      <th>Delhi</th>\n",
       "      <td>25.716083</td>\n",
       "      <td>26.365917</td>\n",
       "      <td>26.145667</td>\n",
       "      <td>25.675000</td>\n",
       "      <td>26.554250</td>\n",
       "      <td>26.520250</td>\n",
       "    </tr>\n",
       "  </tbody>\n",
       "</table>\n",
       "</div>"
      ],
      "text/plain": [
       "year                       2005       2006       2007       2008       2009  \\\n",
       "country  city                                                                 \n",
       "Egypt    Cairo        22.006500  22.050000  22.361000  22.644500  22.625000   \n",
       "         Gizeh        22.006500  22.050000  22.361000  22.644500  22.625000   \n",
       "Ethiopia Addis Abeba  18.312833  18.427083  18.142583  18.165000  18.765333   \n",
       "France   Paris        11.552917  11.788500  11.750833  11.278250  11.464083   \n",
       "Germany  Berlin        9.919083  10.545333  10.883167  10.657750  10.062500   \n",
       "India    Ahmadabad    26.828083  27.282833  27.511167  27.048500  28.095833   \n",
       "         Bangalore    25.476500  25.418250  25.464333  25.352583  25.725750   \n",
       "         Bombay       27.035750  27.381500  27.634667  27.177750  27.844500   \n",
       "         Calcutta     26.729167  26.986250  26.584583  26.522333  27.153250   \n",
       "         Delhi        25.716083  26.365917  26.145667  25.675000  26.554250   \n",
       "\n",
       "year                       2010  \n",
       "country  city                    \n",
       "Egypt    Cairo        23.718250  \n",
       "         Gizeh        23.718250  \n",
       "Ethiopia Addis Abeba  18.298250  \n",
       "France   Paris        10.409833  \n",
       "Germany  Berlin        8.606833  \n",
       "India    Ahmadabad    28.017833  \n",
       "         Bangalore    25.705250  \n",
       "         Bombay       27.765417  \n",
       "         Calcutta     27.288833  \n",
       "         Delhi        26.520250  "
      ]
     },
     "execution_count": 65,
     "metadata": {},
     "output_type": "execute_result"
    }
   ],
   "source": [
    "temp_by_country_city_vs_year.loc[('Egypt', 'Cairo'):('India','Delhi'), 2005:2010]"
   ]
  },
  {
   "cell_type": "code",
   "execution_count": 70,
   "id": "fa487f7e-652e-4189-9d14-2ab781d94b44",
   "metadata": {},
   "outputs": [
    {
     "data": {
      "text/plain": [
       "year\n",
       "2000    19.506243\n",
       "2001    19.679352\n",
       "2002    19.855685\n",
       "2003    19.630197\n",
       "2004    19.672204\n",
       "2005    19.607239\n",
       "2006    19.793993\n",
       "2007    19.854270\n",
       "2008    19.608778\n",
       "2009    19.833752\n",
       "2010    19.911734\n",
       "2011    19.549197\n",
       "2012    19.668239\n",
       "2013    20.312285\n",
       "dtype: float64"
      ]
     },
     "execution_count": 70,
     "metadata": {},
     "output_type": "execute_result"
    }
   ],
   "source": [
    "mean_temp_by_year = temp_by_country_city_vs_year.mean(axis=\"index\")\n",
    "mean_temp_by_year"
   ]
  },
  {
   "cell_type": "code",
   "execution_count": 87,
   "id": "497a0294-360d-4f05-b3c6-79c56f0f12b7",
   "metadata": {},
   "outputs": [
    {
     "name": "stdout",
     "output_type": "stream",
     "text": [
      "year\n",
      "2013    20.312285\n",
      "dtype: float64\n"
     ]
    }
   ],
   "source": [
    "print(mean_temp_by_year[mean_temp_by_year == mean_temp_by_year.max()])"
   ]
  },
  {
   "cell_type": "code",
   "execution_count": 89,
   "id": "0bd5f744-2581-4970-96d7-bc29b39dbf88",
   "metadata": {},
   "outputs": [
    {
     "data": {
      "text/plain": [
       "country        city            \n",
       "Afghanistan    Kabul               15.541955\n",
       "Angola         Luanda              24.391616\n",
       "Australia      Melbourne           14.275411\n",
       "               Sydney              17.799250\n",
       "Bangladesh     Dhaka               26.174440\n",
       "                                     ...    \n",
       "United States  Chicago             11.330825\n",
       "               Los Angeles         16.675399\n",
       "               New York            10.911034\n",
       "Vietnam        Ho Chi Minh City    27.922857\n",
       "Zimbabwe       Harare              20.699000\n",
       "Length: 100, dtype: float64"
      ]
     },
     "execution_count": 89,
     "metadata": {},
     "output_type": "execute_result"
    }
   ],
   "source": [
    "mean_temp_by_city = temp_by_country_city_vs_year.mean(axis=\"columns\")\n",
    "mean_temp_by_city"
   ]
  },
  {
   "cell_type": "code",
   "execution_count": 90,
   "id": "8aae69dc-0ad8-41c2-9335-5a5c2becddaf",
   "metadata": {},
   "outputs": [
    {
     "name": "stdout",
     "output_type": "stream",
     "text": [
      "country  city  \n",
      "China    Harbin    4.876551\n",
      "dtype: float64\n"
     ]
    }
   ],
   "source": [
    "print(mean_temp_by_city[mean_temp_by_city == mean_temp_by_city.min()])"
   ]
  }
 ],
 "metadata": {
  "kernelspec": {
   "display_name": "Python 3 (ipykernel)",
   "language": "python",
   "name": "python3"
  },
  "language_info": {
   "codemirror_mode": {
    "name": "ipython",
    "version": 3
   },
   "file_extension": ".py",
   "mimetype": "text/x-python",
   "name": "python",
   "nbconvert_exporter": "python",
   "pygments_lexer": "ipython3",
   "version": "3.10.2"
  }
 },
 "nbformat": 4,
 "nbformat_minor": 5
}
